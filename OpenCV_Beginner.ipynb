{
 "cells": [
  {
   "cell_type": "raw",
   "source": [
    "`OpenCV` 是一个影像处理的`Python`包，可以用来做很多与影像处理相关的事情，如图片剪裁处理、手势识别、文档文字检测、标记影像中物体的运动路线等等。本教程适用于像博主本人一样的新手，快速上手`OpenCV`，实现一些小项目。\n",
    "# 1 导入、展示图像\n",
    "## 1.1 图片\n",
    "使用OpenCV，需要在Python中安装OpenCV的包，命令行的安装代码为：\n",
    "`$ pip install opencv-python`\n",
    "下面我们导入本小结需要使用的`OpenCV`的包，注意这里导入的是`cv2`，而不是`opencu-python`。\n",
    "我们使用`cv2.imread()`读取图片，括号中为图片所在的地址，我们把读取图片的结果保存到`img`中。如果直接打印`img`，我们得到的是一个1080*1440*3的向量，分别对应图片的长、宽和RGB通道数。`cv2.imshow('img',img)`，用来展示图片，第一个参数表示展示图片的名称，第二个参数表示图片名。`cv2.waitKey(10)`表示图片会展示10毫秒的时间。"
   ],
   "metadata": {
    "collapsed": false
   }
  },
  {
   "cell_type": "code",
   "execution_count": 11,
   "outputs": [
    {
     "name": "stdout",
     "output_type": "stream",
     "text": [
      "(1080, 1440, 3)\n"
     ]
    },
    {
     "data": {
      "text/plain": "-1"
     },
     "execution_count": 11,
     "metadata": {},
     "output_type": "execute_result"
    }
   ],
   "source": [
    "import cv2\n",
    "img = cv2.imread('Pictures/Folwers.jpg')\n",
    "print(img.shape)\n",
    "cv2.imshow('img',img)\n",
    "cv2.waitKey(10)"
   ],
   "metadata": {
    "collapsed": false,
    "pycharm": {
     "name": "#%%\n"
    }
   }
  },
  {
   "cell_type": "raw",
   "source": [
    "`cv2.resize()`可以帮助我们修改图片的大小。`dsize`表示图片的长度和宽度，均为0时表示不做修改。`fx`和`fy`表示将图片的比例变为原来的多少倍。如下所示，以下两种写法得到的图片是一样的。"
   ],
   "metadata": {
    "collapsed": false,
    "pycharm": {
     "name": "#%% raw\n"
    }
   }
  },
  {
   "cell_type": "code",
   "execution_count": 12,
   "outputs": [
    {
     "name": "stdout",
     "output_type": "stream",
     "text": [
      "(216, 288, 3)\n",
      "(216, 288, 3)\n"
     ]
    }
   ],
   "source": [
    "imgSize1 = cv2.resize(img,dsize=(0,0),fx=0.2,fy=0.2)\n",
    "print(imgSize1.shape)\n",
    "imgSize2 = cv2.resize(img,dsize=(288,216))\n",
    "print(imgSize2.shape)"
   ],
   "metadata": {
    "collapsed": false,
    "pycharm": {
     "name": "#%%\n"
    }
   }
  },
  {
   "cell_type": "raw",
   "source": [
    "## 1.2 影像\n",
    "`cv2.VideoCapture`可以用来存入视频文件。视频文件会被分割成随时间改变的一帧帧图片。它会回传两个参数，第一个参数是下一时刻图片的代码，第二个参数是图片的内容。`cv2.waitKey(10) == ord('q')`表示当键盘输入`q`时，视频会退出播放。"
   ],
   "metadata": {
    "collapsed": false,
    "pycharm": {
     "name": "#%% raw\n"
    }
   }
  },
  {
   "cell_type": "code",
   "execution_count": null,
   "outputs": [],
   "source": [
    "# video = cv2.VideoCapture(0) #打开电脑的摄像头\n",
    "video = cv2.VideoCapture('Videos/test.mp4')\n",
    "while True:\n",
    "    nextf, frame = video.read()\n",
    "    if nextf:\n",
    "        frame = cv2.resize(frame, (0, 0), fx=0.5, fy=0.5)\n",
    "        cv2.imshow('video', frame)\n",
    "    else:\n",
    "        break\n",
    "    if cv2.waitKey(10) == ord('q'):\n",
    "        break\n"
   ],
   "metadata": {
    "collapsed": false,
    "pycharm": {
     "name": "#%%\n"
    }
   }
  },
  {
   "cell_type": "raw",
   "source": [
    "# 2 拼接图片、视频\n",
    "本节中，我们尝试随机生成一张图片，并把这张图片与现有的图片和视频拼接在一起。"
   ],
   "metadata": {
    "collapsed": false,
    "pycharm": {
     "name": "#%% raw\n"
    }
   }
  },
  {
   "cell_type": "code",
   "execution_count": 4,
   "outputs": [
    {
     "name": "stdout",
     "output_type": "stream",
     "text": [
      "(540, 720, 3)\n"
     ]
    },
    {
     "data": {
      "text/plain": "-1"
     },
     "execution_count": 4,
     "metadata": {},
     "output_type": "execute_result"
    }
   ],
   "source": [
    "import cv2\n",
    "import numpy as np\n",
    "import random\n",
    "\n",
    "## 导入图片\n",
    "img = cv2.imread('Pictures/Folwers.jpg')\n",
    "img= cv2.resize(img, dsize=(0, 0), fx=0.5, fy=0.5)\n",
    "print(img.shape)\n",
    "\n",
    "## 生成新图片大小与原图片一致\n",
    "imgEmpty = np.empty(img.shape, np.uint8)\n",
    "## 随机生成新图片每个单元格的颜色\n",
    "rownum = img.shape[0]\n",
    "colnum = img.shape[1]\n",
    "for row in range(rownum):\n",
    "     for col in range(colnum):\n",
    "         imgEmpty[row][col]=[random.randint(0, 255), random.randint(0, 255), random.randint(0, 255)]\n",
    "## 将新图片剪切到原图片上\n",
    "img[0:100,0:colnum] = imgEmpty[0:100,0:colnum]\n",
    "cv2.imshow('img', img)\n",
    "cv2.waitKey(10)\n",
    "\n"
   ],
   "metadata": {
    "collapsed": false,
    "pycharm": {
     "name": "#%%\n"
    }
   }
  },
  {
   "cell_type": "raw",
   "source": [
    "类似的，我们也可以把图片拼贴到视频上。"
   ],
   "metadata": {
    "collapsed": false,
    "pycharm": {
     "name": "#%% raw\n"
    }
   }
  },
  {
   "cell_type": "code",
   "execution_count": 1,
   "outputs": [],
   "source": [
    "import cv2\n",
    "import numpy as np\n",
    "import random\n",
    "# 导入视频\n",
    "video = cv2.VideoCapture('Videos/test.mp4')\n",
    "nextf, frame = video.read()\n",
    "frame = cv2.resize(frame, (0, 0), fx=0.5, fy=0.5)\n",
    "imgEmpty = np.empty(frame.shape, np.uint8)\n",
    "rownum = frame.shape[0]\n",
    "colnum = frame.shape[1]\n",
    "for row in range(rownum):\n",
    "    for col in range(colnum):\n",
    "        imgEmpty[row][col]=[random.randint(0, 255), random.randint(0, 255), random.randint(0, 255)]\n",
    "while True:\n",
    "    nextf, frame = video.read()\n",
    "    if nextf:\n",
    "        frame = cv2.resize(frame, (0, 0), fx=0.5, fy=0.5)\n",
    "        ## 将新图片剪切到原图片上\n",
    "        frame[0:100,0:colnum] = imgEmpty[0:100,0:colnum]\n",
    "        cv2.imshow('video', frame)\n",
    "    else:\n",
    "        break\n",
    "    if cv2.waitKey(10) == ord('q'):\n",
    "        break\n"
   ],
   "metadata": {
    "collapsed": false,
    "pycharm": {
     "name": "#%%\n"
    }
   }
  },
  {
   "cell_type": "raw",
   "source": [
    "# 3 常用的影像处理函数\n",
    "## 3.1 彩图转灰阶cv2.cvtColor\n",
    "`cv2.cvtColor(img, cv2.COLOR_BGR2GRAY)`包括两个参数，第一个为原图片名称，第二个参数`cv2.COLOR_BGR2GRAY`为彩图转换为灰度图的命令,可选择的命令还有`cv2.COLOR_BGR2HLS`,`COLOR_RGB2XYZ`等等，可以做出不同风格的图片。"
   ],
   "metadata": {
    "collapsed": false,
    "pycharm": {
     "name": "#%% raw\n"
    }
   }
  },
  {
   "cell_type": "code",
   "execution_count": 1,
   "outputs": [
    {
     "data": {
      "text/plain": "-1"
     },
     "execution_count": 1,
     "metadata": {},
     "output_type": "execute_result"
    }
   ],
   "source": [
    "import cv2\n",
    "img = cv2.imread('Pictures/Folwers.jpg')\n",
    "imgGray = cv2.cvtColor(img, cv2.COLOR_BGR2GRAY)\n",
    "imgXYZ = cv2.cvtColor(img, cv2.COLOR_RGB2XYZ)\n",
    "cv2.imshow('Gray Stype',imgGray)\n",
    "cv2.imshow('XYZ Stype',imgXYZ)\n",
    "cv2.waitKey(10)"
   ],
   "metadata": {
    "collapsed": false,
    "pycharm": {
     "name": "#%%\n"
    }
   }
  },
  {
   "cell_type": "raw",
   "source": [
    "## 3.2 高斯模糊 cv2.GaussianBlur\n",
    "`cv2.GaussianBlur(img, ksize=(15, 15), sigmaX=10)`, ksize和sigmaX的值越大，模糊效果越强。ksize的值为二元向量，且值为奇数。"
   ],
   "metadata": {
    "collapsed": false,
    "pycharm": {
     "name": "#%% raw\n"
    }
   }
  },
  {
   "cell_type": "code",
   "execution_count": null,
   "outputs": [],
   "source": [
    "import cv2\n",
    "img = cv2.imread('Pictures/Folwers.jpg')\n",
    "imgBlur = cv2.GaussianBlur(img, ksize=(15, 15),sigmaX= 10)\n",
    "cv2.imshow('imgBlur',imgBlur)\n",
    "cv2.waitKey(10)"
   ],
   "metadata": {
    "collapsed": false,
    "pycharm": {
     "name": "#%%\n"
    }
   }
  },
  {
   "cell_type": "raw",
   "source": [
    "## 3.3 边缘提取 cv2.Canny\n",
    "`cv2.Canny(image=img, threshold1=200, threshold2=250)`，threshold为检测边缘是否存在的阈值，可以调整来控制图片或视频的输出结果。"
   ],
   "metadata": {
    "collapsed": false,
    "pycharm": {
     "name": "#%% raw\n"
    }
   }
  },
  {
   "cell_type": "code",
   "execution_count": null,
   "outputs": [],
   "source": [
    "import cv2\n",
    "img = cv2.imread('Pictures/Folwers.jpg')\n",
    "imgCanny = cv2.Canny(img, threshold1=200, threshold2=250)\n",
    "cv2.imshow('imgCanny',imgCanny)\n",
    "cv2.waitKey(10)"
   ],
   "metadata": {
    "collapsed": false,
    "pycharm": {
     "name": "#%%\n"
    }
   }
  },
  {
   "cell_type": "raw",
   "source": [
    "## 3.4 膨胀与侵蚀效果 dilate & erode\n",
    "`dilate(src=img,kernel=kernel, iterations=1)`和`cv2.erode(src=img,kernel=kernel, iterations=1)`注意，kernel需是一个矩阵。"
   ],
   "metadata": {
    "collapsed": false,
    "pycharm": {
     "name": "#%% raw\n"
    }
   }
  },
  {
   "cell_type": "code",
   "execution_count": 2,
   "outputs": [
    {
     "data": {
      "text/plain": "-1"
     },
     "execution_count": 2,
     "metadata": {},
     "output_type": "execute_result"
    }
   ],
   "source": [
    "import cv2\n",
    "import numpy as np\n",
    "img = cv2.imread('Pictures/Folwers.jpg')\n",
    "imgCanny = cv2.Canny(img, threshold1=200, threshold2=250)\n",
    "cv2.imshow('imgCanny',imgCanny)\n",
    "imgDilate = cv2.dilate(src=imgCanny, kernel=np.ones((5, 5), np.uint8), iterations=1)\n",
    "cv2.imshow('imgDilate',imgDilate)\n",
    "imgErode = cv2.erode(src=imgDilate, kernel=np.ones((5, 5), np.uint8), iterations=1)\n",
    "cv2.imshow('imgErode',imgErode )\n",
    "cv2.waitKey(10)"
   ],
   "metadata": {
    "collapsed": false,
    "pycharm": {
     "name": "#%%\n"
    }
   }
  },
  {
   "cell_type": "raw",
   "source": [
    "# 4 如何在图片上画线，正方形，圆形和文字\n"
   ],
   "metadata": {
    "collapsed": false,
    "pycharm": {
     "name": "#%% raw\n"
    }
   }
  },
  {
   "cell_type": "code",
   "execution_count": null,
   "outputs": [],
   "source": [
    "import  cv2\n",
    "import numpy as np\n",
    "\n",
    "img = np.zeros((600,600,3),np.uint8)\n",
    "\n",
    "cv2.line(img = img,pt1= (0,0),pt2=(400,300),color=(0,255,0),thickness=2)\n",
    "cv2.line(img = img,pt1= (0,0),pt2=(img.shape[1],img.shape[0]),color=(0,0,255),thickness=2)\n",
    "cv2.rectangle(img=img,pt1= (0,0),pt2=(400,400),color=(255,0,0),thickness=cv2.FILLED)\n",
    "cv2.circle(img,(500,500),30,color=(255,0,0),thickness=2)\n",
    "cv2.putText(img,\"I AM GOOD\",(100,500),cv2.FONT_HERSHEY_SIMPLEX,1,(255,255,255),2)\n",
    "cv2.imshow('img',img)\n",
    "cv2.waitKey(0)"
   ],
   "metadata": {
    "collapsed": false,
    "pycharm": {
     "name": "#%%\n"
    }
   }
  },
  {
   "cell_type": "raw",
   "source": [
    "# 5 颜色捕捉\n"
   ],
   "metadata": {
    "collapsed": false,
    "pycharm": {
     "name": "#%% raw\n"
    }
   }
  },
  {
   "cell_type": "code",
   "execution_count": null,
   "outputs": [],
   "source": [
    "import  cv2\n",
    "import numpy as np\n",
    "def empty(v):\n",
    "    pass\n",
    "\n",
    "img = cv2.imread('Pictures/Fei.png')\n",
    "img = cv2.resize(img,(0,0),fx=0.5,fy=0.5)\n",
    "cv2.namedWindow('TrackBar')\n",
    "cv2.resizeWindow('TrackBar', 640, 320)\n",
    "cv2.createTrackbar('Hue Min','TrackBar',0,179,empty)\n",
    "cv2.createTrackbar('Hue Max','TrackBar',0,179,empty)\n",
    "cv2.createTrackbar('Sat Min','TrackBar',0,255,empty)\n",
    "cv2.createTrackbar('Sat Max','TrackBar',0,255,empty)\n",
    "cv2.createTrackbar('Val Min','TrackBar',0,255,empty)\n",
    "cv2.createTrackbar('Val Max','TrackBar',0,255,empty)\n",
    "hsv = cv2.cvtColor(img,cv2.COLOR_BGR2HSV)\n",
    "while True:\n",
    "    h_min = cv2.getTrackbarPos('Hue Min','TrackBar')\n",
    "    h_max = cv2.getTrackbarPos('Hue Max','TrackBar')\n",
    "    s_min = cv2.getTrackbarPos('Sat Min','TrackBar')\n",
    "    s_max = cv2.getTrackbarPos('Sat Max','TrackBar')\n",
    "    v_min = cv2.getTrackbarPos('Val Min','TrackBar')\n",
    "    v_max = cv2.getTrackbarPos('Val Max','TrackBar')\n",
    "    print(h_min,h_max,s_min,s_max,v_min,v_max)\n",
    "\n",
    "    lower = np.array([h_min,s_min,v_min])\n",
    "    upper = np.array([h_max,s_max,v_max])\n",
    "\n",
    "    mask = cv2.inRange(hsv,lower,upper)\n",
    "    results = cv2.bitwise_and(img,img,mask=mask)\n",
    "    cv2.imshow('img',img)\n",
    "    cv2.imshow('hsv',hsv)\n",
    "    cv2.imshow('mask',mask)\n",
    "    cv2.imshow('results', results)\n",
    "    cv2.waitKey(1)\n"
   ],
   "metadata": {
    "collapsed": false,
    "pycharm": {
     "name": "#%%\n"
    }
   }
  },
  {
   "cell_type": "raw",
   "source": [
    "# 6 图形形状识别"
   ],
   "metadata": {
    "collapsed": false,
    "pycharm": {
     "name": "#%% raw\n"
    }
   }
  },
  {
   "cell_type": "code",
   "execution_count": null,
   "outputs": [],
   "source": [
    "\n",
    "import cv2\n",
    "\n",
    "img = cv2.imread('Pictures/shape.jpg')\n",
    "imgContour = img.copy()\n",
    "img = cv2.cvtColor(img,cv2.COLOR_BGR2GRAY)\n",
    "canny = cv2.Canny(img,200,250)\n",
    "contours, hierachy = cv2.findContours(canny,mode=cv2.RETR_EXTERNAL,method=cv2.CHAIN_APPROX_NONE)\n",
    "\n",
    "for cnt in contours:\n",
    "    cv2.drawContours(imgContour,cnt,-1,(255,0,0),4)\n",
    "    #面积\n",
    "    area = cv2.contourArea(cnt)\n",
    "    if area > 500:\n",
    "        #边长\n",
    "        peri = cv2.arcLength(cnt,True)\n",
    "        #多边形近似\n",
    "        vertices = cv2.approxPolyDP(cnt,peri *0.02,True)\n",
    "        corners = len(vertices)\n",
    "        x,y,w,h = cv2.boundingRect(vertices)\n",
    "        cv2.rectangle(imgContour,(x,y),(x+w,y+h),(0,255,0),4)\n",
    "        if corners == 3 :\n",
    "            cv2.putText(imgContour,'triangle',(x,y-5),cv2.FONT_HERSHEY_SIMPLEX,1,(0,0,255),2)\n",
    "        elif corners == 4 :\n",
    "            cv2.putText(imgContour,'rectangle',(x,y-5),cv2.FONT_HERSHEY_SIMPLEX,1,(0,0,255),2)\n",
    "        elif corners == 5 :\n",
    "            cv2.putText(imgContour,'pentage',(x,y-5),cv2.FONT_HERSHEY_SIMPLEX,1,(0,0,255),2)\n",
    "        elif corners >5 :\n",
    "            cv2.putText(imgContour,'circle',(x,y-5),cv2.FONT_HERSHEY_SIMPLEX,1,(0,0,255),2)\n",
    "cv2.imshow(\"img\",img)\n",
    "cv2.imshow(\"canny\",canny)\n",
    "cv2.imshow(\"imgContour\",imgContour)\n",
    "cv2.waitKey(0)\n"
   ],
   "metadata": {
    "collapsed": false,
    "pycharm": {
     "name": "#%%\n"
    }
   }
  },
  {
   "cell_type": "code",
   "execution_count": null,
   "outputs": [],
   "source": [
    "# 7 人脸识别"
   ],
   "metadata": {
    "collapsed": false,
    "pycharm": {
     "name": "#%%\n"
    }
   }
  },
  {
   "cell_type": "code",
   "execution_count": null,
   "outputs": [],
   "source": [
    "import cv2\n",
    "\n",
    "img = cv2.imread('Pictures/RKTGirls.png')\n",
    "img = cv2.resize(img,(0,0),fx=1.5,fy=1.5)\n",
    "gray = cv2.cvtColor(img,cv2.COLOR_BGR2GRAY)\n",
    "\n",
    "faceCascade = cv2.CascadeClassifier('Models/face_detect.xml')\n",
    "faceRect = faceCascade.detectMultiScale(gray,1.2,4)\n",
    "print(len(faceRect))\n",
    "\n",
    "for(x,y,w,h) in faceRect:\n",
    "    cv2.rectangle(img,(x,y),(x+w,y+h),(0,255,0),2)\n",
    "\n",
    "cv2.imshow(\"img\",img)\n",
    "cv2.waitKey(0)\n"
   ],
   "metadata": {
    "collapsed": false,
    "pycharm": {
     "name": "#%%\n"
    }
   }
  }
 ],
 "metadata": {
  "kernelspec": {
   "display_name": "Python 3",
   "language": "python",
   "name": "python3"
  },
  "language_info": {
   "codemirror_mode": {
    "name": "ipython",
    "version": 2
   },
   "file_extension": ".py",
   "mimetype": "text/x-python",
   "name": "python",
   "nbconvert_exporter": "python",
   "pygments_lexer": "ipython2",
   "version": "2.7.6"
  }
 },
 "nbformat": 4,
 "nbformat_minor": 0
}